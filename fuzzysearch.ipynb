{
 "cells": [
  {
   "cell_type": "code",
   "execution_count": 111,
   "id": "509e8689",
   "metadata": {},
   "outputs": [
    {
     "name": "stderr",
     "output_type": "stream",
     "text": [
      "[nltk_data] Downloading package stopwords to\n",
      "[nltk_data]     C:\\Users\\dennisherdi\\AppData\\Roaming\\nltk_data...\n",
      "[nltk_data]   Package stopwords is already up-to-date!\n",
      "[nltk_data] Downloading package wordnet to\n",
      "[nltk_data]     C:\\Users\\dennisherdi\\AppData\\Roaming\\nltk_data...\n",
      "[nltk_data]   Package wordnet is already up-to-date!\n"
     ]
    },
    {
     "data": {
      "text/plain": [
       "True"
      ]
     },
     "execution_count": 111,
     "metadata": {},
     "output_type": "execute_result"
    }
   ],
   "source": [
    "import pandas as pd\n",
    "import nltk\n",
    "from nltk.corpus import stopwords\n",
    "from nltk.stem import WordNetLemmatizer\n",
    "from nltk.tokenize import word_tokenize\n",
    "from fuzzywuzzy import fuzz\n",
    "\n",
    "# Inisialisasi modul NLTK\n",
    "nltk.download('stopwords')\n",
    "nltk.download('wordnet')"
   ]
  },
  {
   "cell_type": "code",
   "execution_count": 112,
   "id": "a93991d1",
   "metadata": {},
   "outputs": [],
   "source": [
    "df = pd.read_csv('cb_orgs_202302220956.csv')"
   ]
  },
  {
   "cell_type": "code",
   "execution_count": 113,
   "id": "8fb3c509",
   "metadata": {},
   "outputs": [
    {
     "name": "stdout",
     "output_type": "stream",
     "text": [
      "<class 'pandas.core.frame.DataFrame'>\n",
      "RangeIndex: 17811 entries, 0 to 17810\n",
      "Data columns (total 1 columns):\n",
      " #   Column  Non-Null Count  Dtype \n",
      "---  ------  --------------  ----- \n",
      " 0   name    17811 non-null  object\n",
      "dtypes: object(1)\n",
      "memory usage: 139.3+ KB\n"
     ]
    }
   ],
   "source": [
    "df.info()"
   ]
  },
  {
   "cell_type": "code",
   "execution_count": 114,
   "id": "5b48d71b",
   "metadata": {},
   "outputs": [
    {
     "data": {
      "text/html": [
       "<div>\n",
       "<style scoped>\n",
       "    .dataframe tbody tr th:only-of-type {\n",
       "        vertical-align: middle;\n",
       "    }\n",
       "\n",
       "    .dataframe tbody tr th {\n",
       "        vertical-align: top;\n",
       "    }\n",
       "\n",
       "    .dataframe thead th {\n",
       "        text-align: right;\n",
       "    }\n",
       "</style>\n",
       "<table border=\"1\" class=\"dataframe\">\n",
       "  <thead>\n",
       "    <tr style=\"text-align: right;\">\n",
       "      <th></th>\n",
       "      <th>name</th>\n",
       "    </tr>\n",
       "  </thead>\n",
       "  <tbody>\n",
       "    <tr>\n",
       "      <th>0</th>\n",
       "      <td>Meridian Entertainment Group</td>\n",
       "    </tr>\n",
       "    <tr>\n",
       "      <th>1</th>\n",
       "      <td>Bishop Canevin High School</td>\n",
       "    </tr>\n",
       "    <tr>\n",
       "      <th>2</th>\n",
       "      <td>Everside Health</td>\n",
       "    </tr>\n",
       "    <tr>\n",
       "      <th>3</th>\n",
       "      <td>Spire Group</td>\n",
       "    </tr>\n",
       "    <tr>\n",
       "      <th>4</th>\n",
       "      <td>Applied BioCode</td>\n",
       "    </tr>\n",
       "  </tbody>\n",
       "</table>\n",
       "</div>"
      ],
      "text/plain": [
       "                           name\n",
       "0  Meridian Entertainment Group\n",
       "1    Bishop Canevin High School\n",
       "2               Everside Health\n",
       "3                   Spire Group\n",
       "4               Applied BioCode"
      ]
     },
     "execution_count": 114,
     "metadata": {},
     "output_type": "execute_result"
    }
   ],
   "source": [
    "df.head()"
   ]
  },
  {
   "cell_type": "code",
   "execution_count": 115,
   "id": "5f2a95c4",
   "metadata": {},
   "outputs": [
    {
     "name": "stdout",
     "output_type": "stream",
     "text": [
      "Number of missing values per feature\n"
     ]
    },
    {
     "data": {
      "text/plain": [
       "name    0\n",
       "dtype: int64"
      ]
     },
     "execution_count": 115,
     "metadata": {},
     "output_type": "execute_result"
    }
   ],
   "source": [
    "print('Number of missing values per feature')\n",
    "df.isna().sum()"
   ]
  },
  {
   "cell_type": "code",
   "execution_count": 116,
   "id": "17560ae1",
   "metadata": {},
   "outputs": [
    {
     "name": "stdout",
     "output_type": "stream",
     "text": [
      "Is there any duplicated rows? \n",
      "True\n",
      "\n",
      "How many? \n",
      "246 rows\n"
     ]
    }
   ],
   "source": [
    "print(f\"Is there any duplicated rows? \\n{df.duplicated().any()}\") #melihat duplikat dari data\n",
    "print(f\"\\nHow many? \\n{df.duplicated().sum()} rows\")"
   ]
  },
  {
   "cell_type": "code",
   "execution_count": 117,
   "id": "309a6d8f",
   "metadata": {},
   "outputs": [],
   "source": [
    "df.drop_duplicates(subset=None, keep='first', inplace = True, ignore_index=False) #menghaopus data duplikat"
   ]
  },
  {
   "cell_type": "code",
   "execution_count": 118,
   "id": "4e222aa7",
   "metadata": {},
   "outputs": [],
   "source": [
    "import re \n",
    "import string"
   ]
  },
  {
   "cell_type": "code",
   "execution_count": 119,
   "id": "641dabc5",
   "metadata": {},
   "outputs": [],
   "source": [
    "df1 = df"
   ]
  },
  {
   "cell_type": "code",
   "execution_count": 120,
   "id": "83c5e194",
   "metadata": {},
   "outputs": [],
   "source": [
    "def remove_punct(text): #menghapus tanda baca\n",
    "    text_nopunct = ''\n",
    "    text_nopunct = re.sub('['+string.punctuation+']', '', text)\n",
    "    return text_nopunct\n",
    "\n",
    "df1['name'] = df['name'].apply(lambda x: remove_punct(x))"
   ]
  },
  {
   "cell_type": "code",
   "execution_count": 121,
   "id": "368892c3",
   "metadata": {},
   "outputs": [],
   "source": [
    "# # fungsi clean digunakan membersihkan simbol atau frasa yang tidak diperlukan\n",
    "# def cleanOrg(org):\n",
    "#     org = org.lower()\n",
    "#     org = re.sub(r'\\d+', '', org) # remove digits\n",
    "#     org = re.sub(r'”|–|“|’', '', org) # remove digits\n",
    "#     org = re.sub(r'\\n', '', org) # remove enter to 1 space\n",
    "#     org = re.sub(r'tbk', ' ', org)\n",
    "#     org = re.sub(r'pt', ' ', org)\n",
    "#     org = re.sub(r'\\s+', ' ', org)# remove extra spaces\n",
    "    \n",
    "    \n",
    "#     return org\n",
    "\n",
    "# # mengaplikasikan proses cleaning\n",
    "# df1['name'] = df1.name.astype(str).apply(cleanOrg)"
   ]
  },
  {
   "cell_type": "code",
   "execution_count": 122,
   "id": "ddd4b373",
   "metadata": {},
   "outputs": [
    {
     "data": {
      "text/plain": [
       "0        Meridian Entertainment Group\n",
       "1          Bishop Canevin High School\n",
       "2                     Everside Health\n",
       "3                         Spire Group\n",
       "4                     Applied BioCode\n",
       "                     ...             \n",
       "17805                         Rollins\n",
       "17806              SBA Communications\n",
       "17807                          Deluxe\n",
       "17808                   Herc Holdings\n",
       "17809                        SPX FLOW\n",
       "Name: name, Length: 17565, dtype: object"
      ]
     },
     "execution_count": 122,
     "metadata": {},
     "output_type": "execute_result"
    }
   ],
   "source": [
    "df1['name']"
   ]
  },
  {
   "cell_type": "code",
   "execution_count": 123,
   "id": "36748c60",
   "metadata": {},
   "outputs": [],
   "source": [
    "# Menyiapkan data\n",
    "documents = df1['name']\n",
    "\n",
    "# Proses tokenisasi dan lemmatisasi\n",
    "lemmatizer = WordNetLemmatizer()\n",
    "\n",
    "def preprocess_text(text):\n",
    "    tokens = word_tokenize(text)\n",
    "    tokens = [lemmatizer.lemmatize(token.lower()) for token in tokens]\n",
    "    return tokens\n",
    "\n",
    "processed_documents = [preprocess_text(document) for document in documents]\n"
   ]
  },
  {
   "cell_type": "code",
   "execution_count": 124,
   "id": "6879ecd6",
   "metadata": {
    "scrolled": false
   },
   "outputs": [
    {
     "name": "stdout",
     "output_type": "stream",
     "text": [
      "Query 'ojk' found in document ['jk', 'medicine'] with match score 80\n",
      "Query 'ojk' found in document ['jk', 'gadzama', 'llp'] with match score 80\n",
      "Query 'ojk' found in document ['jk', 'recycling'] with match score 80\n",
      "Query 'ojk' found in document ['ok', 'computadores'] with match score 80\n",
      "Query 'ojk' found in document ['gojek'] with match score 75\n"
     ]
    }
   ],
   "source": [
    "# Fuzzy search\n",
    "query = 'ojk'\n",
    "results = []\n",
    "for i, document in enumerate(processed_documents):\n",
    "    if all(isinstance(token, str) for token in document) and len(document) > 0:\n",
    "        match_score = max([fuzz.ratio(query, token) for token in document])\n",
    "        if match_score > 70:\n",
    "            # Store the match score and document in a tuple\n",
    "            result = (match_score, document)\n",
    "            results.append(result)\n",
    "\n",
    "# Sort the results by match score in descending order\n",
    "sorted_results = sorted(results, key=lambda x: x[0], reverse=True)[:5]\n",
    "# Print the sorted results\n",
    "for result in sorted_results:\n",
    "    match_score = result[0]\n",
    "    document = result[1]\n",
    "    print(f\"Query '{query}' found in document {document} with match score {match_score}\")\n"
   ]
  },
  {
   "cell_type": "code",
   "execution_count": 125,
   "id": "fa12610c",
   "metadata": {},
   "outputs": [
    {
     "data": {
      "text/plain": [
       "[(80, ['jk', 'medicine']),\n",
       " (80, ['jk', 'gadzama', 'llp']),\n",
       " (80, ['jk', 'recycling']),\n",
       " (80, ['ok', 'computadores']),\n",
       " (75, ['gojek'])]"
      ]
     },
     "execution_count": 125,
     "metadata": {},
     "output_type": "execute_result"
    }
   ],
   "source": [
    "sorted_results"
   ]
  },
  {
   "cell_type": "code",
   "execution_count": null,
   "id": "20a808f9",
   "metadata": {},
   "outputs": [],
   "source": []
  }
 ],
 "metadata": {
  "kernelspec": {
   "display_name": "Python 3 (ipykernel)",
   "language": "python",
   "name": "python3"
  },
  "language_info": {
   "codemirror_mode": {
    "name": "ipython",
    "version": 3
   },
   "file_extension": ".py",
   "mimetype": "text/x-python",
   "name": "python",
   "nbconvert_exporter": "python",
   "pygments_lexer": "ipython3",
   "version": "3.10.8"
  },
  "vscode": {
   "interpreter": {
    "hash": "02f94a4996b05b106f98d5148d40e2237a330922de55bde3d842103c713e3f1e"
   }
  }
 },
 "nbformat": 4,
 "nbformat_minor": 5
}
